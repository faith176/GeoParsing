{
  "cells": [
    {
      "cell_type": "markdown",
      "metadata": {
        "id": "bqMAGbzWZJ_v"
      },
      "source": [
        "# **Geoparsing: Disambiguation Evaluation**\n",
        "---\n",
        "**Prepared by**: Feyi Adesanya\n",
        "\n",
        "**Submission Date**: April 30, 2024"
      ]
    },
    {
      "cell_type": "code",
      "execution_count": 1,
      "metadata": {},
      "outputs": [],
      "source": [
        "import pandas as pd"
      ]
    },
    {
      "cell_type": "code",
      "execution_count": 2,
      "metadata": {},
      "outputs": [],
      "source": [
        "pd.reset_option('display.max_columns')\n",
        "pd.reset_option('display.width')"
      ]
    },
    {
      "cell_type": "code",
      "execution_count": 3,
      "metadata": {},
      "outputs": [],
      "source": [
        "from Pre.Preprocess import Preprocess\n",
        "from Gaz.Gazetteer import Gazetteer\n",
        "from Dis.Disambiguate_Manager import Disambiguate_Manager"
      ]
    },
    {
      "cell_type": "code",
      "execution_count": 4,
      "metadata": {},
      "outputs": [
        {
          "name": "stdout",
          "output_type": "stream",
          "text": [
            "Retrieving Locations Array from Saved Data\n",
            "Corpus has 133639 Locations\n",
            "Retrieving BK Tree from Saved Data\n"
          ]
        }
      ],
      "source": [
        "gaz = Gazetteer()"
      ]
    },
    {
      "cell_type": "code",
      "execution_count": 5,
      "metadata": {},
      "outputs": [
        {
          "name": "stderr",
          "output_type": "stream",
          "text": [
            "c:\\Users\\FeyiA\\AppData\\Local\\Programs\\Python\\Python310\\lib\\site-packages\\tqdm\\auto.py:21: TqdmWarning: IProgress not found. Please update jupyter and ipywidgets. See https://ipywidgets.readthedocs.io/en/stable/user_install.html\n",
            "  from .autonotebook import tqdm as notebook_tqdm\n"
          ]
        },
        {
          "name": "stdout",
          "output_type": "stream",
          "text": [
            "Retrieving Corpus from Saved Data\n",
            "Corpus has 588 documents\n"
          ]
        }
      ],
      "source": [
        "preprocess = Preprocess(gaz)\n",
        "preprocess.extract_train_data()"
      ]
    },
    {
      "cell_type": "code",
      "execution_count": 6,
      "metadata": {},
      "outputs": [],
      "source": [
        "dis = Disambiguate_Manager(gaz, preprocess)"
      ]
    },
    {
      "cell_type": "markdown",
      "metadata": {},
      "source": [
        "# Disambiguation Results Analysis"
      ]
    },
    {
      "cell_type": "markdown",
      "metadata": {},
      "source": [
        "### Disambiguate by Population"
      ]
    },
    {
      "cell_type": "code",
      "execution_count": 7,
      "metadata": {},
      "outputs": [
        {
          "name": "stdout",
          "output_type": "stream",
          "text": [
            "@60km\n",
            "|████████████████████████████████████████| 588/588 [100%] in 6:32.9 (1.49/s)    ▅▇▇ 8/588 [1%] in 5s (~5:49, 1.6/s)  ▆█▆ 8/588 [1%] in 5s (~5:55, 1.6/s)  ▇▅▃ 9/588 [2%] in 6s (~5:59, 1.6/s)  ▄▂▂ 9/588 [2%] in 6s (~6:16, 1.5/s)  ▃▁▃ 9/588 [2%] in 6s (~6:25, 1.5/s)  ▂▄▆ 9/588 [2%] in 7s (~6:55, 1.4/s)  ▇▇▅ 10/588 [2%] in 8s (~7:37, 1.3/s)  ▃▅▇ 15/588 [3%] in 10s (~6:40, 1.5/s) ▄▆█ 15/588 [3%] in 10s (~6:36, 1.5/s) ▅▇▇ 15/588 [3%] in 10s (~6:34, 1.5/s) ▆▄▂ 16/588 [3%] in 11s (~6:36, 1.4/s) ▅▃▁ 16/588 [3%] in 12s (~6:39, 1.4/s) ▁▃▅ 16/588 [3%] in 12s (~6:59, 1.3/s) ▆█▆ 18/588 [3%] in 13s (~7:15, 1.3/s) █▆▄ 19/588 [3%] in 14s (~7:05, 1.4/s) ▇▅▃ 19/588 [3%] in 14s (~7:03, 1.4/s) ▆█▆ 21/588 [4%] in 16s (~7:04, 1.3/s) ▇▇▅ 21/588 [4%] in 16s (~7:07, 1.3/s) ▆▄▂ 21/588 [4%] in 17s (~7:21, 1.3/s) ▅▃▁ 21/588 [4%] in 17s (~7:26, 1.3/s) ▂▄▆ 21/588 [4%] in 18s (~7:53, 1.2/s) █▆▄ 341/588 [58%] in 5:08 (~3:44, 1.1 ▃▁▃ 348/588 [59%] in 5:19 (~3:40, 1.1 ▂▄▆ 349/588 [59%] in 5:20 (~3:39, 1.1 ▄▂▂ 353/588 [60%] in 5:22 (~3:34, 1.1 ▇▇▅ 357/588 [61%] in 5:24 (~3:30, 1.1 ▃▅▇ 380/588 [65%] in 5:37 (~3:05, 1.1 ▅▃▁ 517/588 [88%] in 6:11 (~52s, 1.4/ ▄▂▂ 518/588 [88%] in 6:11 (~51s, 1.4/\n",
            "Accuracy: 69.31%\n",
            "Mean Squared Error (MSE): 1595.58\n",
            "Root Mean Squared Error (RMSE): 39.94\n",
            "Mean Absolute Error (MAE): 9.12\n"
          ]
        }
      ],
      "source": [
        "print(\"@60km\")\n",
        "true_population, predicted_population = dis.disambiguate_corpus(\"population\")"
      ]
    },
    {
      "cell_type": "markdown",
      "metadata": {},
      "source": [
        "### Disambiguate by Distance"
      ]
    },
    {
      "cell_type": "code",
      "execution_count": 8,
      "metadata": {},
      "outputs": [
        {
          "name": "stdout",
          "output_type": "stream",
          "text": [
            "@60km\n",
            "|                                        | ▁▃▅ 0/588 [0%] in 0s (~0s, 0.0/s) "
          ]
        },
        {
          "name": "stdout",
          "output_type": "stream",
          "text": [
            "|████████████████████████████████████████| 588/588 [100%] in 4:36.1 (2.13/s)    \n",
            "Accuracy: 77.06%\n",
            "Mean Squared Error (MSE): 737.38\n",
            "Root Mean Squared Error (RMSE): 27.15\n",
            "Mean Absolute Error (MAE): 4.85\n"
          ]
        }
      ],
      "source": [
        "print(\"@60km\")\n",
        "true_distance, predicted_distance = dis.disambiguate_corpus(\"distance\")"
      ]
    },
    {
      "cell_type": "markdown",
      "metadata": {},
      "source": [
        "### Combination Disambiguation"
      ]
    },
    {
      "cell_type": "code",
      "execution_count": 9,
      "metadata": {},
      "outputs": [
        {
          "name": "stdout",
          "output_type": "stream",
          "text": [
            "@60km\n",
            "                                                                                \r"
          ]
        },
        {
          "name": "stderr",
          "output_type": "stream",
          "text": [
            "on 2: c:\\Users\\FeyiA\\Desktop\\CSI 4900\\Code\\Dis\\Disambiguate_Manager.py:248: RuntimeWarning: divide by zero encountered in divide\n",
            "        normalized_distances = np.array(distances) / max(distances)\n",
            "c:\\Users\\FeyiA\\Desktop\\CSI 4900\\Code\\Dis\\Disambiguate_Manager.py:248: RuntimeWarning: invalid value encountered in divide\n",
            "        normalized_distances = np.array(distances) / max(distances)\n"
          ]
        },
        {
          "name": "stdout",
          "output_type": "stream",
          "text": [
            "|████████████████████████████████████████| 588/588 [100%] in 4:30.7 (2.17/s)    ▅▇▇ 7/588 [1%] in 5s (~5:29, 1.7/s)  ▇▇▅ 19/588 [3%] in 13s (~6:24, 1.5/s) ▅▃▁ 21/588 [4%] in 16s (~7:06, 1.3/s)\n",
            "Accuracy: 82.78%\n",
            "Mean Squared Error (MSE): 618.51\n",
            "Root Mean Squared Error (RMSE): 24.87\n",
            "Mean Absolute Error (MAE): 4.05\n"
          ]
        }
      ],
      "source": [
        "print(\"@60km\")\n",
        "true_population, predicted_population = dis.disambiguate_corpus()"
      ]
    },
    {
      "cell_type": "code",
      "execution_count": 10,
      "metadata": {},
      "outputs": [],
      "source": [
        "# # examples for error = [9, 19, 16, 24, 25]\n",
        "# # Upping distance examples = [21]\n",
        "# #Certain places are referring to the exact same area but the lat lon is off by 1 degree, about 111km, maybe add a check if the geonames id is the same or within a certain distance\n",
        "# from alive_progress import alive_bar\n",
        "# correct_count = 0\n",
        "# total_count = 0\n",
        "# baseline = False\n",
        "# MDE = 0\n",
        "# wrong = []\n",
        "\n",
        "# on = 24\n",
        "# with alive_bar(len(dis.preprocess.corpus[on:on+1]), force_tty=True) as bar:\n",
        "#     for book in dis.preprocess.corpus[on:on+1]:\n",
        "#         print(book[\"text\"])\n",
        "#         locs = []\n",
        "#         for loc in book[\"toponyms\"]:\n",
        "#             if loc.get(\"geonameid\") is not None and loc.get(\"fcode\") in dis.relevant_fcodes:\n",
        "#                 if len(dis.all_pop[dis.all_pop[\"geonameid\"] == loc.get(\"geonameid\")][\"population\"]) == 1 and dis.all_pop[dis.all_pop[\"geonameid\"] == loc.get(\"geonameid\")][\"population\"].values[0] >= 1000:\n",
        "#                     locs.append(loc)\n",
        "#         loc_list = [loc[\"phrase\"].lower() for loc in locs]\n",
        "#         final_predictions = dis.disambiguate(book[\"text\"],loc_list)\n",
        "#         for item in locs:\n",
        "#             for prediction in final_predictions:\n",
        "#                 if item.get(\"start\") == str(prediction[-1]):\n",
        "#                     total_count += 1\n",
        "#                     distance_apart = dis.get_distance(prediction[1][0], prediction[1][1], item[\"lat\"], item[\"lon\"])\n",
        "#                     MDE += distance_apart**2\n",
        "#                     if int(item.get(\"geonameid\")) == int(prediction[2]) or distance_apart <= 25:\n",
        "#                         correct_count += 1\n",
        "#                     else:\n",
        "#                         wrong.append(item.get(\"name\"))\n",
        "#                         print(item.get(\"name\"))\n",
        "#                         print(item)\n",
        "#                         print(distance_apart)\n",
        "#                         print(prediction)\n",
        "#                         print(\"-\"*50)\n",
        "#         bar()"
      ]
    },
    {
      "cell_type": "markdown",
      "metadata": {},
      "source": [
        "## Examples"
      ]
    },
    {
      "cell_type": "code",
      "execution_count": 11,
      "metadata": {},
      "outputs": [
        {
          "name": "stdout",
          "output_type": "stream",
          "text": [
            "--------------------------------------------------\n",
            "[('Location Unknown: lethbridge', (0.0, 0.0), -1), ('Location Unknown: lethbridge', (0.0, 0.0), -1), ('calgary', (51.05011, -114.08529), 5913490, 21), ('red deer', (52.26682, -113.802), 6118158, 30), ('calgary', (51.05011, -114.08529), 5913490, 40), ('edmonton', (53.55014, -113.46871), 5946768, 53), ('manitoba', (55.00019, -97.00049), 6065171, 94)]\n",
            "--------------------------------------------------\n"
          ]
        },
        {
          "data": {
            "text/html": [
              "<div style=\"width:100%;\"><div style=\"position:relative;width:100%;height:0;padding-bottom:60%;\"><span style=\"color:#565656\">Make this Notebook Trusted to load map: File -> Trust Notebook</span><iframe srcdoc=\"&lt;!DOCTYPE html&gt;\n",
              "&lt;html&gt;\n",
              "&lt;head&gt;\n",
              "    \n",
              "    &lt;meta http-equiv=&quot;content-type&quot; content=&quot;text/html; charset=UTF-8&quot; /&gt;\n",
              "    \n",
              "        &lt;script&gt;\n",
              "            L_NO_TOUCH = false;\n",
              "            L_DISABLE_3D = false;\n",
              "        &lt;/script&gt;\n",
              "    \n",
              "    &lt;style&gt;html, body {width: 100%;height: 100%;margin: 0;padding: 0;}&lt;/style&gt;\n",
              "    &lt;style&gt;#map {position:absolute;top:0;bottom:0;right:0;left:0;}&lt;/style&gt;\n",
              "    &lt;script src=&quot;https://cdn.jsdelivr.net/npm/leaflet@1.9.3/dist/leaflet.js&quot;&gt;&lt;/script&gt;\n",
              "    &lt;script src=&quot;https://code.jquery.com/jquery-3.7.1.min.js&quot;&gt;&lt;/script&gt;\n",
              "    &lt;script src=&quot;https://cdn.jsdelivr.net/npm/bootstrap@5.2.2/dist/js/bootstrap.bundle.min.js&quot;&gt;&lt;/script&gt;\n",
              "    &lt;script src=&quot;https://cdnjs.cloudflare.com/ajax/libs/Leaflet.awesome-markers/2.0.2/leaflet.awesome-markers.js&quot;&gt;&lt;/script&gt;\n",
              "    &lt;link rel=&quot;stylesheet&quot; href=&quot;https://cdn.jsdelivr.net/npm/leaflet@1.9.3/dist/leaflet.css&quot;/&gt;\n",
              "    &lt;link rel=&quot;stylesheet&quot; href=&quot;https://cdn.jsdelivr.net/npm/bootstrap@5.2.2/dist/css/bootstrap.min.css&quot;/&gt;\n",
              "    &lt;link rel=&quot;stylesheet&quot; href=&quot;https://netdna.bootstrapcdn.com/bootstrap/3.0.0/css/bootstrap.min.css&quot;/&gt;\n",
              "    &lt;link rel=&quot;stylesheet&quot; href=&quot;https://cdn.jsdelivr.net/npm/@fortawesome/fontawesome-free@6.2.0/css/all.min.css&quot;/&gt;\n",
              "    &lt;link rel=&quot;stylesheet&quot; href=&quot;https://cdnjs.cloudflare.com/ajax/libs/Leaflet.awesome-markers/2.0.2/leaflet.awesome-markers.css&quot;/&gt;\n",
              "    &lt;link rel=&quot;stylesheet&quot; href=&quot;https://cdn.jsdelivr.net/gh/python-visualization/folium/folium/templates/leaflet.awesome.rotate.min.css&quot;/&gt;\n",
              "    \n",
              "            &lt;meta name=&quot;viewport&quot; content=&quot;width=device-width,\n",
              "                initial-scale=1.0, maximum-scale=1.0, user-scalable=no&quot; /&gt;\n",
              "            &lt;style&gt;\n",
              "                #map_6f77bd6bc32e3c0367219d44e9224839 {\n",
              "                    position: relative;\n",
              "                    width: 100.0%;\n",
              "                    height: 100.0%;\n",
              "                    left: 0.0%;\n",
              "                    top: 0.0%;\n",
              "                }\n",
              "                .leaflet-container { font-size: 1rem; }\n",
              "            &lt;/style&gt;\n",
              "        \n",
              "&lt;/head&gt;\n",
              "&lt;body&gt;\n",
              "    \n",
              "    &lt;h3 align=&quot;center&quot; style=&quot;font-size:16px&quot;&gt;&lt;b&gt;Locations&lt;/b&gt;&lt;/h3&gt;\n",
              "    \n",
              "            &lt;div class=&quot;folium-map&quot; id=&quot;map_6f77bd6bc32e3c0367219d44e9224839&quot; &gt;&lt;/div&gt;\n",
              "        \n",
              "&lt;/body&gt;\n",
              "&lt;script&gt;\n",
              "    \n",
              "    \n",
              "            var map_6f77bd6bc32e3c0367219d44e9224839 = L.map(\n",
              "                &quot;map_6f77bd6bc32e3c0367219d44e9224839&quot;,\n",
              "                {\n",
              "                    center: [52.966815000000004, -109.5891225],\n",
              "                    crs: L.CRS.EPSG3857,\n",
              "                    zoom: 5,\n",
              "                    zoomControl: true,\n",
              "                    preferCanvas: false,\n",
              "                }\n",
              "            );\n",
              "\n",
              "            \n",
              "\n",
              "        \n",
              "    \n",
              "            var tile_layer_4e98ed2aaa26e6c6c3d294e5855c220c = L.tileLayer(\n",
              "                &quot;https://tile.openstreetmap.org/{z}/{x}/{y}.png&quot;,\n",
              "                {&quot;attribution&quot;: &quot;\\u0026copy; \\u003ca href=\\&quot;https://www.openstreetmap.org/copyright\\&quot;\\u003eOpenStreetMap\\u003c/a\\u003e contributors&quot;, &quot;detectRetina&quot;: false, &quot;maxNativeZoom&quot;: 19, &quot;maxZoom&quot;: 19, &quot;minZoom&quot;: 0, &quot;noWrap&quot;: false, &quot;opacity&quot;: 1, &quot;subdomains&quot;: &quot;abc&quot;, &quot;tms&quot;: false}\n",
              "            );\n",
              "        \n",
              "    \n",
              "            tile_layer_4e98ed2aaa26e6c6c3d294e5855c220c.addTo(map_6f77bd6bc32e3c0367219d44e9224839);\n",
              "        \n",
              "    \n",
              "            var marker_22bf2fd1944eeb9bfcbdcbae4fc6613b = L.marker(\n",
              "                [51.05011, -114.08529],\n",
              "                {&quot;autoOpen&quot;: true}\n",
              "            ).addTo(map_6f77bd6bc32e3c0367219d44e9224839);\n",
              "        \n",
              "    \n",
              "        var popup_3eaf355e69c52e13a9e9b078c0a7bca3 = L.popup({&quot;maxWidth&quot;: &quot;100%&quot;});\n",
              "\n",
              "        \n",
              "            \n",
              "                var html_2ec3279cb8414335f5c5891297cb3d83 = $(`&lt;div id=&quot;html_2ec3279cb8414335f5c5891297cb3d83&quot; style=&quot;width: 100.0%; height: 100.0%;&quot;&gt;Calgary&lt;/div&gt;`)[0];\n",
              "                popup_3eaf355e69c52e13a9e9b078c0a7bca3.setContent(html_2ec3279cb8414335f5c5891297cb3d83);\n",
              "            \n",
              "        \n",
              "\n",
              "        marker_22bf2fd1944eeb9bfcbdcbae4fc6613b.bindPopup(popup_3eaf355e69c52e13a9e9b078c0a7bca3)\n",
              "        ;\n",
              "\n",
              "        \n",
              "    \n",
              "    \n",
              "            var marker_2ea6ec11dd88b3c404d6d67d91f5f909 = L.marker(\n",
              "                [52.26682, -113.802],\n",
              "                {&quot;autoOpen&quot;: true}\n",
              "            ).addTo(map_6f77bd6bc32e3c0367219d44e9224839);\n",
              "        \n",
              "    \n",
              "        var popup_1dcbba632edf7c4613dbf22dd257d5b8 = L.popup({&quot;maxWidth&quot;: &quot;100%&quot;});\n",
              "\n",
              "        \n",
              "            \n",
              "                var html_56b5241cc810fea6264f4d5591a2176b = $(`&lt;div id=&quot;html_56b5241cc810fea6264f4d5591a2176b&quot; style=&quot;width: 100.0%; height: 100.0%;&quot;&gt;Red Deer&lt;/div&gt;`)[0];\n",
              "                popup_1dcbba632edf7c4613dbf22dd257d5b8.setContent(html_56b5241cc810fea6264f4d5591a2176b);\n",
              "            \n",
              "        \n",
              "\n",
              "        marker_2ea6ec11dd88b3c404d6d67d91f5f909.bindPopup(popup_1dcbba632edf7c4613dbf22dd257d5b8)\n",
              "        ;\n",
              "\n",
              "        \n",
              "    \n",
              "    \n",
              "            var marker_15c62e69e1ff04980e647d22860cf549 = L.marker(\n",
              "                [53.55014, -113.46871],\n",
              "                {&quot;autoOpen&quot;: true}\n",
              "            ).addTo(map_6f77bd6bc32e3c0367219d44e9224839);\n",
              "        \n",
              "    \n",
              "        var popup_0045344d530d0c04f1c90e57e8bbab60 = L.popup({&quot;maxWidth&quot;: &quot;100%&quot;});\n",
              "\n",
              "        \n",
              "            \n",
              "                var html_c6700cc8c1c48b0d824e77c61b56c2cf = $(`&lt;div id=&quot;html_c6700cc8c1c48b0d824e77c61b56c2cf&quot; style=&quot;width: 100.0%; height: 100.0%;&quot;&gt;Edmonton&lt;/div&gt;`)[0];\n",
              "                popup_0045344d530d0c04f1c90e57e8bbab60.setContent(html_c6700cc8c1c48b0d824e77c61b56c2cf);\n",
              "            \n",
              "        \n",
              "\n",
              "        marker_15c62e69e1ff04980e647d22860cf549.bindPopup(popup_0045344d530d0c04f1c90e57e8bbab60)\n",
              "        ;\n",
              "\n",
              "        \n",
              "    \n",
              "    \n",
              "            var marker_6697f84d18af5ac64f638cfe09b2a362 = L.marker(\n",
              "                [55.00019, -97.00049],\n",
              "                {&quot;autoOpen&quot;: true}\n",
              "            ).addTo(map_6f77bd6bc32e3c0367219d44e9224839);\n",
              "        \n",
              "    \n",
              "        var popup_97c6336f4f92f9da586491ae948a56b6 = L.popup({&quot;maxWidth&quot;: &quot;100%&quot;});\n",
              "\n",
              "        \n",
              "            \n",
              "                var html_12cdef52d8eff0c991f35bee2b4afb1a = $(`&lt;div id=&quot;html_12cdef52d8eff0c991f35bee2b4afb1a&quot; style=&quot;width: 100.0%; height: 100.0%;&quot;&gt;Manitoba&lt;/div&gt;`)[0];\n",
              "                popup_97c6336f4f92f9da586491ae948a56b6.setContent(html_12cdef52d8eff0c991f35bee2b4afb1a);\n",
              "            \n",
              "        \n",
              "\n",
              "        marker_6697f84d18af5ac64f638cfe09b2a362.bindPopup(popup_97c6336f4f92f9da586491ae948a56b6)\n",
              "        ;\n",
              "\n",
              "        \n",
              "    \n",
              "&lt;/script&gt;\n",
              "&lt;/html&gt;\" style=\"position:absolute;width:100%;height:100%;left:0;top:0;border:none !important;\" allowfullscreen webkitallowfullscreen mozallowfullscreen></iframe></div></div>"
            ],
            "text/plain": [
              "<folium.folium.Map at 0x1de2cca3c10>"
            ]
          },
          "execution_count": 11,
          "metadata": {},
          "output_type": "execute_result"
        }
      ],
      "source": [
        "locs = [\"lethbridge\",\"calgary\", \"red deer\",\"calgary\", \"edmonton\", \"manitoba\", \"lethbridge\"]\n",
        "text = \"I'm making my way to Calgary, Red Deer, Calgary, and Edmonton this summer. Don't forget about Manitoba\"\n",
        "dis.map_locations(text, locs)"
      ]
    },
    {
      "cell_type": "code",
      "execution_count": 12,
      "metadata": {},
      "outputs": [
        {
          "name": "stdout",
          "output_type": "stream",
          "text": [
            "--------------------------------------------------\n",
            "[('toronto', (43.70643, -79.39864), 6167865, 28), ('toronto', (43.70643, -79.39864), 6167865, 41)]\n",
            "--------------------------------------------------\n"
          ]
        },
        {
          "name": "stderr",
          "output_type": "stream",
          "text": [
            "c:\\Users\\FeyiA\\Desktop\\CSI 4900\\Code\\Dis\\Disambiguate_Manager.py:248: RuntimeWarning: invalid value encountered in divide\n",
            "  normalized_distances = np.array(distances) / max(distances)\n"
          ]
        },
        {
          "data": {
            "text/html": [
              "<div style=\"width:100%;\"><div style=\"position:relative;width:100%;height:0;padding-bottom:60%;\"><span style=\"color:#565656\">Make this Notebook Trusted to load map: File -> Trust Notebook</span><iframe srcdoc=\"&lt;!DOCTYPE html&gt;\n",
              "&lt;html&gt;\n",
              "&lt;head&gt;\n",
              "    \n",
              "    &lt;meta http-equiv=&quot;content-type&quot; content=&quot;text/html; charset=UTF-8&quot; /&gt;\n",
              "    \n",
              "        &lt;script&gt;\n",
              "            L_NO_TOUCH = false;\n",
              "            L_DISABLE_3D = false;\n",
              "        &lt;/script&gt;\n",
              "    \n",
              "    &lt;style&gt;html, body {width: 100%;height: 100%;margin: 0;padding: 0;}&lt;/style&gt;\n",
              "    &lt;style&gt;#map {position:absolute;top:0;bottom:0;right:0;left:0;}&lt;/style&gt;\n",
              "    &lt;script src=&quot;https://cdn.jsdelivr.net/npm/leaflet@1.9.3/dist/leaflet.js&quot;&gt;&lt;/script&gt;\n",
              "    &lt;script src=&quot;https://code.jquery.com/jquery-3.7.1.min.js&quot;&gt;&lt;/script&gt;\n",
              "    &lt;script src=&quot;https://cdn.jsdelivr.net/npm/bootstrap@5.2.2/dist/js/bootstrap.bundle.min.js&quot;&gt;&lt;/script&gt;\n",
              "    &lt;script src=&quot;https://cdnjs.cloudflare.com/ajax/libs/Leaflet.awesome-markers/2.0.2/leaflet.awesome-markers.js&quot;&gt;&lt;/script&gt;\n",
              "    &lt;link rel=&quot;stylesheet&quot; href=&quot;https://cdn.jsdelivr.net/npm/leaflet@1.9.3/dist/leaflet.css&quot;/&gt;\n",
              "    &lt;link rel=&quot;stylesheet&quot; href=&quot;https://cdn.jsdelivr.net/npm/bootstrap@5.2.2/dist/css/bootstrap.min.css&quot;/&gt;\n",
              "    &lt;link rel=&quot;stylesheet&quot; href=&quot;https://netdna.bootstrapcdn.com/bootstrap/3.0.0/css/bootstrap.min.css&quot;/&gt;\n",
              "    &lt;link rel=&quot;stylesheet&quot; href=&quot;https://cdn.jsdelivr.net/npm/@fortawesome/fontawesome-free@6.2.0/css/all.min.css&quot;/&gt;\n",
              "    &lt;link rel=&quot;stylesheet&quot; href=&quot;https://cdnjs.cloudflare.com/ajax/libs/Leaflet.awesome-markers/2.0.2/leaflet.awesome-markers.css&quot;/&gt;\n",
              "    &lt;link rel=&quot;stylesheet&quot; href=&quot;https://cdn.jsdelivr.net/gh/python-visualization/folium/folium/templates/leaflet.awesome.rotate.min.css&quot;/&gt;\n",
              "    \n",
              "            &lt;meta name=&quot;viewport&quot; content=&quot;width=device-width,\n",
              "                initial-scale=1.0, maximum-scale=1.0, user-scalable=no&quot; /&gt;\n",
              "            &lt;style&gt;\n",
              "                #map_5b045c4ac77742420500ae84c74cb5cf {\n",
              "                    position: relative;\n",
              "                    width: 100.0%;\n",
              "                    height: 100.0%;\n",
              "                    left: 0.0%;\n",
              "                    top: 0.0%;\n",
              "                }\n",
              "                .leaflet-container { font-size: 1rem; }\n",
              "            &lt;/style&gt;\n",
              "        \n",
              "&lt;/head&gt;\n",
              "&lt;body&gt;\n",
              "    \n",
              "    &lt;h3 align=&quot;center&quot; style=&quot;font-size:16px&quot;&gt;&lt;b&gt;Locations&lt;/b&gt;&lt;/h3&gt;\n",
              "    \n",
              "            &lt;div class=&quot;folium-map&quot; id=&quot;map_5b045c4ac77742420500ae84c74cb5cf&quot; &gt;&lt;/div&gt;\n",
              "        \n",
              "&lt;/body&gt;\n",
              "&lt;script&gt;\n",
              "    \n",
              "    \n",
              "            var map_5b045c4ac77742420500ae84c74cb5cf = L.map(\n",
              "                &quot;map_5b045c4ac77742420500ae84c74cb5cf&quot;,\n",
              "                {\n",
              "                    center: [43.70643, -79.39864],\n",
              "                    crs: L.CRS.EPSG3857,\n",
              "                    zoom: 5,\n",
              "                    zoomControl: true,\n",
              "                    preferCanvas: false,\n",
              "                }\n",
              "            );\n",
              "\n",
              "            \n",
              "\n",
              "        \n",
              "    \n",
              "            var tile_layer_b456b12628fa87603a4c7ac3ce15f9b6 = L.tileLayer(\n",
              "                &quot;https://tile.openstreetmap.org/{z}/{x}/{y}.png&quot;,\n",
              "                {&quot;attribution&quot;: &quot;\\u0026copy; \\u003ca href=\\&quot;https://www.openstreetmap.org/copyright\\&quot;\\u003eOpenStreetMap\\u003c/a\\u003e contributors&quot;, &quot;detectRetina&quot;: false, &quot;maxNativeZoom&quot;: 19, &quot;maxZoom&quot;: 19, &quot;minZoom&quot;: 0, &quot;noWrap&quot;: false, &quot;opacity&quot;: 1, &quot;subdomains&quot;: &quot;abc&quot;, &quot;tms&quot;: false}\n",
              "            );\n",
              "        \n",
              "    \n",
              "            tile_layer_b456b12628fa87603a4c7ac3ce15f9b6.addTo(map_5b045c4ac77742420500ae84c74cb5cf);\n",
              "        \n",
              "    \n",
              "            var marker_99bb30336f52426b02ce09e6577535b2 = L.marker(\n",
              "                [43.70643, -79.39864],\n",
              "                {&quot;autoOpen&quot;: true}\n",
              "            ).addTo(map_5b045c4ac77742420500ae84c74cb5cf);\n",
              "        \n",
              "    \n",
              "        var popup_8e56992a3e3316a08a0d207247530074 = L.popup({&quot;maxWidth&quot;: &quot;100%&quot;});\n",
              "\n",
              "        \n",
              "            \n",
              "                var html_f46e96a3ba50fc3bc8d3f6426580c4e0 = $(`&lt;div id=&quot;html_f46e96a3ba50fc3bc8d3f6426580c4e0&quot; style=&quot;width: 100.0%; height: 100.0%;&quot;&gt;Toronto&lt;/div&gt;`)[0];\n",
              "                popup_8e56992a3e3316a08a0d207247530074.setContent(html_f46e96a3ba50fc3bc8d3f6426580c4e0);\n",
              "            \n",
              "        \n",
              "\n",
              "        marker_99bb30336f52426b02ce09e6577535b2.bindPopup(popup_8e56992a3e3316a08a0d207247530074)\n",
              "        ;\n",
              "\n",
              "        \n",
              "    \n",
              "&lt;/script&gt;\n",
              "&lt;/html&gt;\" style=\"position:absolute;width:100%;height:100%;left:0;top:0;border:none !important;\" allowfullscreen webkitallowfullscreen mozallowfullscreen></iframe></div></div>"
            ],
            "text/plain": [
              "<folium.folium.Map at 0x1de0d4b0610>"
            ]
          },
          "execution_count": 12,
          "metadata": {},
          "output_type": "execute_result"
        }
      ],
      "source": [
        "# Example 2\n",
        "locs = [\"Toronto\", \"Toronto\"]\n",
        "text = \"Help I'm making my way down Toronto then Toronto\"\n",
        "dis.map_locations(text, locs)"
      ]
    }
  ],
  "metadata": {
    "colab": {
      "collapsed_sections": [
        "9BGHEgZtXcr7",
        "xvNyvr74cwiN",
        "qqf-rQo6cwuI",
        "9n7eaMKUcw2a"
      ],
      "provenance": []
    },
    "kernelspec": {
      "display_name": "Python 3",
      "name": "python3"
    },
    "language_info": {
      "codemirror_mode": {
        "name": "ipython",
        "version": 3
      },
      "file_extension": ".py",
      "mimetype": "text/x-python",
      "name": "python",
      "nbconvert_exporter": "python",
      "pygments_lexer": "ipython3",
      "version": "3.10.0"
    }
  },
  "nbformat": 4,
  "nbformat_minor": 0
}
